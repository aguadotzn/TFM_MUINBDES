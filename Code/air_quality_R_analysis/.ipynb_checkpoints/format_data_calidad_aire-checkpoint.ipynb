{
 "cells": [
  {
   "cell_type": "markdown",
   "metadata": {},
   "source": [
    "### MUINBDES_TFM_CALIDAD_AIRE_MADRID\n",
    ">Autor: *Adrián Aguado*\n",
    ">\n",
    ">Fecha: *Julio 2019*\n",
    ">\n",
    ">Descripción: *Preprocesado y formateado datos calidad aire*\n",
    ">\n",
    ">Nombre fichero: **merge_data_calidad_aire**\n",
    ">\n",
    ">Fuente datos: https://datos.madrid.es"
   ]
  },
  {
   "cell_type": "code",
   "execution_count": 1,
   "metadata": {},
   "outputs": [
    {
     "name": "stdout",
     "output_type": "stream",
     "text": [
      "hola\n"
     ]
    }
   ],
   "source": [
    "print('hola')"
   ]
  },
  {
   "cell_type": "code",
   "execution_count": null,
   "metadata": {},
   "outputs": [],
   "source": []
  }
 ],
 "metadata": {
  "kernelspec": {
   "display_name": "Python 3",
   "language": "python",
   "name": "python3"
  },
  "language_info": {
   "codemirror_mode": {
    "name": "ipython",
    "version": 3
   },
   "file_extension": ".py",
   "mimetype": "text/x-python",
   "name": "python",
   "nbconvert_exporter": "python",
   "pygments_lexer": "ipython3",
   "version": "3.7.3"
  }
 },
 "nbformat": 4,
 "nbformat_minor": 2
}
